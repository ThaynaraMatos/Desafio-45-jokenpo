{
  "nbformat": 4,
  "nbformat_minor": 0,
  "metadata": {
    "colab": {
      "name": "tabuada :)",
      "provenance": [],
      "collapsed_sections": [],
      "authorship_tag": "ABX9TyNWEIYFTMPuzzs5VboHV1QN",
      "include_colab_link": true
    },
    "kernelspec": {
      "name": "python3",
      "display_name": "Python 3"
    },
    "language_info": {
      "name": "python"
    }
  },
  "cells": [
    {
      "cell_type": "markdown",
      "metadata": {
        "id": "view-in-github",
        "colab_type": "text"
      },
      "source": [
        "<a href=\"https://colab.research.google.com/github/ThaynaraMatos/Desafio-45-jokenpo/blob/master/tabuada_).ipynb\" target=\"_parent\"><img src=\"https://colab.research.google.com/assets/colab-badge.svg\" alt=\"Open In Colab\"/></a>"
      ]
    },
    {
      "cell_type": "code",
      "execution_count": null,
      "metadata": {
        "id": "zEKZJLlFOwmW"
      },
      "outputs": [],
      "source": [
        "tabuada = int(input('Digite um número qualquer para sabermos sua tabuada: '))\n",
        "for c in range(1,11):\n",
        "    print(f'{tabuada} x {c} = {tabuada*c}')"
      ]
    }
  ]
}